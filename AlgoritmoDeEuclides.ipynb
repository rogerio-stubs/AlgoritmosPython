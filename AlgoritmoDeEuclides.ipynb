{
  "nbformat": 4,
  "nbformat_minor": 0,
  "metadata": {
    "colab": {
      "name": "AlgoritmoDeEuclides",
      "provenance": [],
      "collapsed_sections": [],
      "authorship_tag": "ABX9TyP84i5+2zPZ/c3wDRxDswvq",
      "include_colab_link": true
    },
    "kernelspec": {
      "name": "python3",
      "display_name": "Python 3"
    }
  },
  "cells": [
    {
      "cell_type": "markdown",
      "metadata": {
        "id": "view-in-github",
        "colab_type": "text"
      },
      "source": [
        "<a href=\"https://colab.research.google.com/github/rogerio-stubs/AlgoritmosPython/blob/master/AlgoritmoDeEuclides.ipynb\" target=\"_parent\"><img src=\"https://colab.research.google.com/assets/colab-badge.svg\" alt=\"Open In Colab\"/></a>"
      ]
    },
    {
      "cell_type": "markdown",
      "metadata": {
        "id": "S2MYcpRW-iJL",
        "colab_type": "text"
      },
      "source": [
        "# Algoritmo de Euclides\n"
      ]
    },
    {
      "cell_type": "code",
      "metadata": {
        "id": "e_WRoy1O9xyq",
        "colab_type": "code",
        "colab": {}
      },
      "source": [
        "# Algoritmo de Euclides utilizando recursão\n",
        "def mdc(a, b):\n",
        "    if b == 0:\n",
        "        return a\n",
        "    else:\n",
        "        return mdc(b, a % b)\n",
        "\n",
        "\n",
        "x = int(input(\"Primeiro número: \"))\n",
        "y = int(input(\"Segundo número: \"))\n",
        "resultado = mdc(x, y)\n",
        "print(\"resultado: \", resultado)"
      ],
      "execution_count": 0,
      "outputs": []
    },
    {
      "cell_type": "code",
      "metadata": {
        "id": "Q6YSR5SaVjO8",
        "colab_type": "code",
        "colab": {}
      },
      "source": [
        "# Algoritmo de Euclides sem recursão\n",
        "a = int(input(\"Primeiro número: \"))\n",
        "b = int(input(\"Segundo número: \"))\n",
        "\n",
        "while b != 0:\n",
        "    auxiliar = b\n",
        "    b = a % b\n",
        "    a = auxiliar         \n",
        "\n",
        "print(\"resultado: \", a)"
      ],
      "execution_count": 0,
      "outputs": []
    }
  ]
}