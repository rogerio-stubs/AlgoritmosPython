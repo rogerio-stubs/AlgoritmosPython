{
  "nbformat": 4,
  "nbformat_minor": 0,
  "metadata": {
    "colab": {
      "name": "fibonacci",
      "provenance": [],
      "collapsed_sections": [],
      "include_colab_link": true
    },
    "kernelspec": {
      "name": "python3",
      "display_name": "Python 3"
    }
  },
  "cells": [
    {
      "cell_type": "markdown",
      "metadata": {
        "id": "view-in-github",
        "colab_type": "text"
      },
      "source": [
        "<a href=\"https://colab.research.google.com/github/rogerio-stubs/AlgoritmosPython/blob/master/fibonacci.ipynb\" target=\"_parent\"><img src=\"https://colab.research.google.com/assets/colab-badge.svg\" alt=\"Open In Colab\"/></a>"
      ]
    },
    {
      "cell_type": "code",
      "metadata": {
        "id": "sMB93i3e5jDN",
        "colab_type": "code",
        "colab": {}
      },
      "source": [
        "# Forma iterativa\n",
        "sequenciaFibonacci = list()\n",
        "contador = 0\n",
        "maximo = 10\n",
        "\n",
        "while contador <= maximo:\n",
        "    fibonacci = 0\n",
        "    if contador <= 1:\n",
        "        sequenciaFibonacci.append(contador)\n",
        "    else:\n",
        "        fibonacci = sequenciaFibonacci[contador - 1] + sequenciaFibonacci[contador - 2]\n",
        "        sequenciaFibonacci.append(fibonacci)\n",
        "    contador+= 1\n",
        "\n",
        "print(sequenciaFibonacci)"
      ],
      "execution_count": 0,
      "outputs": []
    },
    {
      "cell_type": "code",
      "metadata": {
        "id": "X6lpp3Qy8NN3",
        "colab_type": "code",
        "colab": {}
      },
      "source": [
        "# Recursivo -- começa por 1\n",
        "def fibonacci(maximo):\n",
        "    if maximo < 2:\n",
        "        return maximo\n",
        "\n",
        "    return fibonacci(maximo - 1) + fibonacci(maximo - 2)\n",
        "\n",
        "fibonacci(10)"
      ],
      "execution_count": 0,
      "outputs": []
    },
    {
      "cell_type": "code",
      "metadata": {
        "id": "6N_nWu5SRMAV",
        "colab_type": "code",
        "colab": {}
      },
      "source": [
        "# Functions\n",
        "# Primeira versão\n",
        "def sequence_fibonacci(sequenceFibonacci, previousElement, currentElement):\n",
        "  if currentElement ==  0:\n",
        "    print('Fibonacci',previousElement)\n",
        "    currentElement += 1\n",
        "    print('Fibonacci',currentElement)\n",
        "    sequence_fibonacci(sequenceFibonacci, previousElement, currentElement)\n",
        "  elif currentElement < sequenceFibonacci and currentElement != 0:\n",
        "    fibonacci = previousElement + currentElement\n",
        "    print('Fibonacci',fibonacci)\n",
        "    previousElement = currentElement\n",
        "    currentElement = fibonacci\n",
        "    sequence_fibonacci(sequenceFibonacci, previousElement, currentElement)\n",
        "\n",
        "# Segunda versão\n",
        "def sequence_fibonacci2(number):\n",
        "    a, b = 0, 1\n",
        "    if number == 1:\n",
        "        print(b)\n",
        "    while b < number:\n",
        "        print(b)\n",
        "        a, b = b, a+b\n",
        "        "
      ],
      "execution_count": 0,
      "outputs": []
    },
    {
      "cell_type": "code",
      "metadata": {
        "id": "96p69LxpRRtb",
        "colab_type": "code",
        "colab": {}
      },
      "source": [
        "# Main\n",
        "# Uma função se a sequência começa com 0 a outra \n",
        "sequenceFibonacci = int(input('Sequência de Fibonacci até: '))\n",
        "print('Primeira função')\n",
        "sequence_fibonacci(sequenceFibonacci, 0, 0)\n",
        "print('Segunda função')\n",
        "sequenceFibonacci2 = int(input('Sequência de Fibonacci: '))\n",
        "sequence_fibonacci2(sequenceFibonacci2)"
      ],
      "execution_count": 0,
      "outputs": []
    }
  ]
}