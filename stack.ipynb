{
  "nbformat": 4,
  "nbformat_minor": 0,
  "metadata": {
    "colab": {
      "name": "stack",
      "provenance": [],
      "collapsed_sections": [],
      "include_colab_link": true
    },
    "kernelspec": {
      "name": "python3",
      "display_name": "Python 3"
    }
  },
  "cells": [
    {
      "cell_type": "markdown",
      "metadata": {
        "id": "view-in-github",
        "colab_type": "text"
      },
      "source": [
        "<a href=\"https://colab.research.google.com/github/rogerio-stubs/Python-Algorithms/blob/master/stack.ipynb\" target=\"_parent\"><img src=\"https://colab.research.google.com/assets/colab-badge.svg\" alt=\"Open In Colab\"/></a>"
      ]
    },
    {
      "cell_type": "code",
      "metadata": {
        "id": "u0hMo-KGj25D",
        "colab_type": "code",
        "colab": {}
      },
      "source": [
        "#Funções\n",
        "def stack_up(element, stack):\n",
        "    stack.append(element)\n",
        "  \n",
        "def unstack(stack):\n",
        "  if stack_empty(stack) != False:\n",
        "    stack.pop()\n",
        "\n",
        "def show_top(stack):\n",
        "  if stack_empty(stack) != False:\n",
        "    size = len(stack) - 1\n",
        "    print('Elemento no topo', stack[size])\n",
        "\n",
        "def stack_empty(stack):\n",
        "  if len(stack) == 0:\n",
        "    return False\n",
        "  return True\n",
        "\n",
        "def stack_full():\n",
        "  print('Não existe tamanho fixo para a pilha!')\n"
      ],
      "execution_count": 0,
      "outputs": []
    },
    {
      "cell_type": "code",
      "metadata": {
        "id": "b2XaL_laqCjj",
        "colab_type": "code",
        "colab": {}
      },
      "source": [
        "#Main\n",
        "stack = []\n",
        "option = -1\n",
        "while(option != 0):\n",
        "  print('---------------------------------------')\n",
        "  print('1 -> Empilhar.')\n",
        "  print('2 -> Desempilhar.')\n",
        "  print('3 -> Mostrar topo.')\n",
        "  print('4 -> Verificar se a pilha está vazia.')\n",
        "  print('5 -> Verificar se a pilha está cheia.')\n",
        "  option = int(input('Escolha uma opção: '))\n",
        "  if option == 1:\n",
        "    element = int(input('Informe um número: '))\n",
        "    stack_up(element, stack)\n",
        "  elif option == 2:\n",
        "    unstack(stack)\n",
        "  elif option == 3:\n",
        "    show_top(stack)\n",
        "  elif option == 4:\n",
        "    if stack_empty(stack) == False:\n",
        "      print('Pilha vazia!!')\n",
        "    else:\n",
        "      print('Pilha não está vazia!!')\n",
        "  elif option == 5:\n",
        "    stack_full()\n",
        "print('Fim da execução')"
      ],
      "execution_count": 0,
      "outputs": []
    }
  ]
}