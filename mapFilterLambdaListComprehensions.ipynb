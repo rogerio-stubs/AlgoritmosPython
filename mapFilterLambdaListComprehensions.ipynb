{
  "nbformat": 4,
  "nbformat_minor": 0,
  "metadata": {
    "colab": {
      "name": "mapFilterLambdaListComprehensions",
      "provenance": [],
      "collapsed_sections": [],
      "include_colab_link": true
    },
    "kernelspec": {
      "name": "python3",
      "display_name": "Python 3"
    }
  },
  "cells": [
    {
      "cell_type": "markdown",
      "metadata": {
        "id": "view-in-github",
        "colab_type": "text"
      },
      "source": [
        "<a href=\"https://colab.research.google.com/github/rogerio-stubs/AlgoritmosPython/blob/master/mapFilterLambdaListComprehensions.ipynb\" target=\"_parent\"><img src=\"https://colab.research.google.com/assets/colab-badge.svg\" alt=\"Open In Colab\"/></a>"
      ]
    },
    {
      "cell_type": "code",
      "metadata": {
        "id": "eRC4cDNGTJZE",
        "colab_type": "code",
        "colab": {}
      },
      "source": [
        "# map() \n",
        "def size(word):\n",
        "    return len(word)\n",
        "\n",
        "words = ['rogerio', 'sampaio', 'stubs']\n",
        "counter = map(size, words)\n",
        "print(list(counter))"
      ],
      "execution_count": 0,
      "outputs": []
    },
    {
      "cell_type": "code",
      "metadata": {
        "id": "GmFULzl_W1wu",
        "colab_type": "code",
        "colab": {}
      },
      "source": [
        "# filter()\n",
        "valores = [1,2,3,4,5,6,7,8,9,10]\n",
        "print(list(filter(lambda x : x % 2 == 0, valores)))"
      ],
      "execution_count": 0,
      "outputs": []
    },
    {
      "cell_type": "code",
      "metadata": {
        "id": "CYT9ZQ6oW3Xe",
        "colab_type": "code",
        "colab": {}
      },
      "source": [
        "# lambda argumentos : expressão \n",
        "soma = lambda x, y : x + y\n",
        "soma(1,2)"
      ],
      "execution_count": 0,
      "outputs": []
    },
    {
      "cell_type": "code",
      "metadata": {
        "id": "NuhRDLRCA4gb",
        "colab_type": "code",
        "colab": {}
      },
      "source": [
        "# List Comprehension\n",
        "vector = list()\n",
        "vector = [1 for element in range(4)]\n",
        "print(vector)"
      ],
      "execution_count": 0,
      "outputs": []
    },
    {
      "cell_type": "code",
      "metadata": {
        "id": "IOx60fwdJMSM",
        "colab_type": "code",
        "colab": {}
      },
      "source": [
        "# List Comprehension - if\n",
        "valores = [1,2,3,4,5,6,7,8,9,10]\n",
        "impares = [i for i in valores if i % 2 != 0]\n",
        "print(list(impares))"
      ],
      "execution_count": 0,
      "outputs": []
    },
    {
      "cell_type": "markdown",
      "metadata": {
        "id": "9fgXz_yyTaGY",
        "colab_type": "text"
      },
      "source": [
        "https://medium.com/horadecodar/express%C3%B5es-lambda-em-python-com-map-reduce-e-filter-a391368ae886\n",
        "\n",
        "https://pythonhelp.wordpress.com/2012/05/13/map-reduce-filter-e-lambda/"
      ]
    }
  ]
}