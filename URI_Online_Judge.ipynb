{
  "nbformat": 4,
  "nbformat_minor": 0,
  "metadata": {
    "colab": {
      "name": "URI Online Judge",
      "provenance": [],
      "collapsed_sections": [],
      "include_colab_link": true
    },
    "kernelspec": {
      "name": "python3",
      "display_name": "Python 3"
    }
  },
  "cells": [
    {
      "cell_type": "markdown",
      "metadata": {
        "id": "view-in-github",
        "colab_type": "text"
      },
      "source": [
        "<a href=\"https://colab.research.google.com/github/rogerio-stubs/Python-Algorithms/blob/master/URI_Online_Judge.ipynb\" target=\"_parent\"><img src=\"https://colab.research.google.com/assets/colab-badge.svg\" alt=\"Open In Colab\"/></a>"
      ]
    },
    {
      "cell_type": "code",
      "metadata": {
        "id": "zO6ay_twfJ7-",
        "colab_type": "code",
        "colab": {}
      },
      "source": [
        "#1003 - Soma simples\n",
        "x = int(input())\n",
        "y = int(input())\n",
        "soma = x + y\n",
        "print('SOMA = {}'.format(soma))"
      ],
      "execution_count": 0,
      "outputs": []
    },
    {
      "cell_type": "code",
      "metadata": {
        "id": "8HIXUCCDUmkZ",
        "colab_type": "code",
        "colab": {}
      },
      "source": [
        "#1004 - Produto simples\n",
        "x = int(input())\n",
        "y = int(input())\n",
        "prod = x * y\n",
        "print('PROD =', prod)"
      ],
      "execution_count": 0,
      "outputs": []
    },
    {
      "cell_type": "code",
      "metadata": {
        "id": "yZYI_2UeK3Sm",
        "colab_type": "code",
        "colab": {}
      },
      "source": [
        "#1013 - Maior valor\n",
        "valueList = list()\n",
        "a, b, c = input().split()\n",
        "x, y, z = int(a), int(b), int(c)\n",
        "valueList.append(x)\n",
        "valueList.append(y)\n",
        "valueList.append(z)\n",
        "print(max(valueList), 'eh o maior')"
      ],
      "execution_count": 0,
      "outputs": []
    },
    {
      "cell_type": "code",
      "metadata": {
        "id": "GcYPQU6Ifqur",
        "colab_type": "code",
        "colab": {}
      },
      "source": [
        "#1019 - Conversão de tempo\n",
        "hour = 0\n",
        "second = int(input())\n",
        "minute = second / 60\n",
        "second = second % 60\n",
        "if minute > 60:\n",
        "    hour = minute / 60\n",
        "    minute = minute % 60\n",
        "print('{}:{}:{}'.format(int(hour), int(minute), second))"
      ],
      "execution_count": 0,
      "outputs": []
    }
  ]
}