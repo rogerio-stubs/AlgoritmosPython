{
  "nbformat": 4,
  "nbformat_minor": 0,
  "metadata": {
    "colab": {
      "name": "Grafos",
      "provenance": [],
      "collapsed_sections": [],
      "include_colab_link": true
    },
    "kernelspec": {
      "name": "python3",
      "display_name": "Python 3"
    }
  },
  "cells": [
    {
      "cell_type": "markdown",
      "metadata": {
        "id": "view-in-github",
        "colab_type": "text"
      },
      "source": [
        "<a href=\"https://colab.research.google.com/github/rogerio-stubs/Python-Algorithms/blob/master/Grafos.ipynb\" target=\"_parent\"><img src=\"https://colab.research.google.com/assets/colab-badge.svg\" alt=\"Open In Colab\"/></a>"
      ]
    },
    {
      "cell_type": "markdown",
      "metadata": {
        "id": "0wUYi6MSVS-u",
        "colab_type": "text"
      },
      "source": [
        "# Grafos\n",
        "* http://www.algoritmosempython.com.br/cursos/algoritmos-python/algoritmos-grafos/intro"
      ]
    },
    {
      "cell_type": "code",
      "metadata": {
        "id": "nL6ovke1OCsF",
        "colab_type": "code",
        "colab": {}
      },
      "source": [
        " # Pausado\n",
        " # Mostrar grafo\n",
        "def showGraph(graph):\n",
        "    print('Grafo', graph) \n",
        "\n",
        "# Retorna lista de vertices\n",
        "def get_vertices(graph):\n",
        "    return list(graph.keys())\n",
        "\n",
        "# Retorna lista de arestas\n",
        "def get_edges(graph):\n",
        "    edges = list()\n",
        "    for vertice in graph:\n",
        "        for edge in graph[vertice]:\n",
        "            edges.append((vertice, edge))\n",
        "    return edges\n",
        "    \n",
        "# Adiciona arestas\n",
        "def add_edges(graph):\n",
        "    print('Adicionar Aresta: {}'.format(get_vertices(graph)))\n",
        "    u, v = input('Aresta: ').upper().split(' ')\n",
        "    if u > v:\n",
        "        u, v = v, u\n",
        "    if not edges_exists(graph, u, v):\n",
        "        tmp = graph.get(u)\n",
        "        tmp.append(v)\n",
        "        graph.update({u: tmp})\n",
        "    showGraph(graph)\n",
        "\n",
        "# Verifica se a aresta existe\n",
        "def edges_exists(graph, u, v):\n",
        "    if (u, v) in get_edges(graph):\n",
        "        print('Essa aresta existe!!')\n",
        "        return True\n",
        "    \n",
        "# Número de vizinhos\n",
        "def number_of_neighbors(graph):\n",
        "    vertice = get_vertices(graph)\n",
        "    return vertice"
      ],
      "execution_count": 0,
      "outputs": []
    },
    {
      "cell_type": "code",
      "metadata": {
        "id": "klwB7xGSVQMN",
        "colab_type": "code",
        "colab": {}
      },
      "source": [
        "graph = { \"A\" : [\"B\"],\n",
        "          \"B\" : [\"C\", \"D\"],\n",
        "          \"C\" : [\"B\", \"E\"],\n",
        "          \"D\" : [\"A\"],\n",
        "          \"E\" : [\"B\"]\n",
        "        }\n",
        "print('Vertices: {}'.format(get_vertices(graph)))\n",
        "print('Arestas: {}'.format(get_edges(graph)))\n",
        "showGraph(graph)\n",
        "add_edges(graph)\n",
        "add_edges(graph)\n",
        "number_of_neighbors(graph)"
      ],
      "execution_count": 0,
      "outputs": []
    }
  ]
}