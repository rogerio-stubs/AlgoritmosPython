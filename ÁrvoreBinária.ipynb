{
  "nbformat": 4,
  "nbformat_minor": 0,
  "metadata": {
    "colab": {
      "name": "ÁrvoreBinária",
      "provenance": [],
      "collapsed_sections": [],
      "include_colab_link": true
    },
    "kernelspec": {
      "name": "python3",
      "display_name": "Python 3"
    }
  },
  "cells": [
    {
      "cell_type": "markdown",
      "metadata": {
        "id": "view-in-github",
        "colab_type": "text"
      },
      "source": [
        "<a href=\"https://colab.research.google.com/github/rogerio-stubs/AlgoritmosPython/blob/master/%C3%81rvoreBin%C3%A1ria.ipynb\" target=\"_parent\"><img src=\"https://colab.research.google.com/assets/colab-badge.svg\" alt=\"Open In Colab\"/></a>"
      ]
    },
    {
      "cell_type": "markdown",
      "metadata": {
        "id": "MgeH0onm0VGx",
        "colab_type": "text"
      },
      "source": [
        "# Árvore Binária\n",
        "\n",
        "* Referências\n",
        "\n",
        "http://www.algoritmosempython.com.br/cursos/algoritmos-python/estruturas-dados/arvores"
      ]
    },
    {
      "cell_type": "code",
      "metadata": {
        "id": "kq9YN4x5z2eQ",
        "colab_type": "code",
        "colab": {}
      },
      "source": [
        "class NodoArvore:\n",
        "    def __init__(self, chave=None, esquerda=None, direita=None):\n",
        "        self.chave = chave\n",
        "        self.esquerda = esquerda\n",
        "        self.direita = direita\n",
        "    \n",
        "    def __repr__(self):\n",
        "        return '%s <- %s -> %s' % (self.esquerda and self.esquerda.chave,\n",
        "                                   self.chave,\n",
        "                                   self.direita and self.direita.chave)\n",
        "\n",
        "\n",
        "# Caminhando em pré ordem \n",
        "def pre_ordem(raiz):\n",
        "    if not raiz:\n",
        "        return\n",
        "    \n",
        "    # Visita nodo corrente\n",
        "    print(raiz.chave)\n",
        "\n",
        "    # Visita filho esquerda\n",
        "    pre_ordem(raiz.esquerda)\n",
        "\n",
        "    # Visita filho direita\n",
        "    pre_ordem(raiz.direita)\n",
        "\n",
        "\n",
        "# Caminhando em ordem\n",
        "def em_ordem(raiz):\n",
        "    if not raiz:\n",
        "        return\n",
        "    \n",
        "    # Visita filho da esquerda\n",
        "    em_ordem(raiz.esquerda)\n",
        "\n",
        "    # Visita o nodo corrente\n",
        "    print(raiz.chave)\n",
        "\n",
        "    # Visita o filho da direita\n",
        "    em_ordem(raiz.direita)\n",
        "\n",
        "\n",
        "# Caminhando em  pós ordem\n",
        "def pos_ordem(raiz):\n",
        "    if not raiz:\n",
        "        return\n",
        "    \n",
        "    # Visita filho esquerda\n",
        "    pos_ordem(raiz.esquerda)\n",
        "\n",
        "    # Visita filho direita\n",
        "    pos_ordem(raiz.direita)\n",
        "\n",
        "    # Visita nodo corrente\n",
        "    print(raiz.chave)\n",
        "\n",
        "\n",
        "# Inserção em Árvores Binárias de Pesquisa (BST)\n",
        "def insere(raiz, nodo):\n",
        "    # Nodo deve ser inserido na raiz\n",
        "    if raiz is None:\n",
        "        raiz = nodo\n",
        "    \n",
        "    # Nodo  deve ser inserido na subárvore direita\n",
        "    elif raiz.chave < nodo.chave:\n",
        "        if raiz.direita is None:\n",
        "            raiz.direita = nodo\n",
        "        else:\n",
        "            insere(raiz.direita, nodo)\n",
        "    \n",
        "    # Nodo deve ser inserido na subárvore esquerda\n",
        "    else:\n",
        "        if raiz.esquerda is None:\n",
        "            raiz.esquerda = nodo\n",
        "        else:\n",
        "            insere(raiz.esquerda, nodo)\n",
        "\n",
        "# Busca pela Árovre\n",
        "def busca(raiz, chave):\n",
        "    \n",
        "    # Trata o caso em que a chave procurada não está presente\n",
        "    if raiz is None:\n",
        "        return None\n",
        "    \n",
        "    # A chave procurada está na raiz da árvore\n",
        "    if raiz.chave == chave:\n",
        "        return raiz\n",
        "    \n",
        "    # A chave procurada é maior que a raiz\n",
        "    if raiz.chave < chave:\n",
        "        return busca(raiz.direita, chave)\n",
        "    \n",
        "    # A chave procurada é menor que a raiz\n",
        "    if raiz.chave > chave:\n",
        "        return busca(raiz.esquerda, chave) \n",
        "\n",
        "\n",
        "# Buscando o menor elemento da árvore\n",
        "def minimo(raiz):\n",
        "    nodo = raiz\n",
        "    while nodo.esquerda is not None:\n",
        "        nodo = nodo.esquerda\n",
        "    return nodo.chave\n",
        "\n",
        "\n",
        "# Buscando o maior elemento da árvore\n",
        "def maximo(raiz):\n",
        "    nodo = raiz\n",
        "    while nodo.direita is not None:\n",
        "        nodo = nodo.direita\n",
        "    return nodo.chave"
      ],
      "execution_count": 0,
      "outputs": []
    },
    {
      "cell_type": "code",
      "metadata": {
        "id": "hhZHxdPVb6Xi",
        "colab_type": "code",
        "colab": {}
      },
      "source": [
        "raiz = NodoArvore(3)\n",
        "\n",
        "raiz.esquerda = NodoArvore(5)\n",
        "raiz.direita = NodoArvore(1)\n",
        "\n",
        "print('Árvore: ', raiz)"
      ],
      "execution_count": 0,
      "outputs": []
    },
    {
      "cell_type": "code",
      "metadata": {
        "id": "ufL-QgMoey9A",
        "colab_type": "code",
        "colab": {}
      },
      "source": [
        "# Árvore binária de pesquisa\n",
        "raiz = NodoArvore(40)\n",
        "\n",
        "raiz.esquerda = NodoArvore(20)\n",
        "raiz.direita  = NodoArvore(60)\n",
        "\n",
        "raiz.direita.esquerda  = NodoArvore(50)\n",
        "raiz.direita.direita   = NodoArvore(70)\n",
        "raiz.esquerda.esquerda = NodoArvore(10)\n",
        "raiz.esquerda.direita  = NodoArvore(30)\n",
        "\n",
        "pre_ordem(raiz)\n",
        "print('#')\n",
        "em_ordem(raiz)\n",
        "print('#')\n",
        "pos_ordem(raiz)"
      ],
      "execution_count": 0,
      "outputs": []
    },
    {
      "cell_type": "code",
      "metadata": {
        "id": "vHvA9SbE-0nx",
        "colab_type": "code",
        "colab": {}
      },
      "source": [
        "# Cria árvore binária de pesquisa\n",
        "raiz = NodoArvore(40)\n",
        "for chave in [20, 60, 50, 70, 10, 30]:\n",
        "    nodo = NodoArvore(chave)\n",
        "    insere(raiz, nodo)\n",
        "\n",
        "# Imrpimir o caminho em ordem da árvore\n",
        "em_ordem(raiz)"
      ],
      "execution_count": 0,
      "outputs": []
    },
    {
      "cell_type": "code",
      "metadata": {
        "id": "N7NGqQdNqsfr",
        "colab_type": "code",
        "colab": {}
      },
      "source": [
        "# Cria uma árvore binária de pesquisa\n",
        "raiz = NodoArvore(40)\n",
        "for chave in [20, 60, 50, 70, 10, 30]:\n",
        "    nodo = NodoArvore(chave)\n",
        "    insere(raiz, nodo)\n",
        "\n",
        "# Procura por valores na árvore\n",
        "for chave in [-50, 10, 30, 70, 100]:\n",
        "    resultado = busca(raiz, chave)\n",
        "    if resultado:\n",
        "        print('Busca pela chave {}: Sucesso!'.format(chave))\n",
        "    else:\n",
        "        print('Busca pela chave {}: Falha!'.format(chave))\n",
        "\n",
        "# Menor elemento da árvore\n",
        "minimo(raiz)\n",
        "# Maior elemento da árvore\n",
        "maximo(raiz)"
      ],
      "execution_count": 0,
      "outputs": []
    }
  ]
}