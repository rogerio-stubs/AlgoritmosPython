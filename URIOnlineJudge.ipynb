{
  "nbformat": 4,
  "nbformat_minor": 0,
  "metadata": {
    "colab": {
      "name": "URIOnlineJudge",
      "provenance": [],
      "collapsed_sections": [
        "0HIFeiX4gQvE"
      ],
      "include_colab_link": true
    },
    "kernelspec": {
      "name": "python3",
      "display_name": "Python 3"
    }
  },
  "cells": [
    {
      "cell_type": "markdown",
      "metadata": {
        "id": "view-in-github",
        "colab_type": "text"
      },
      "source": [
        "<a href=\"https://colab.research.google.com/github/rogerio-stubs/AlgoritmosPython/blob/master/URIOnlineJudge.ipynb\" target=\"_parent\"><img src=\"https://colab.research.google.com/assets/colab-badge.svg\" alt=\"Open In Colab\"/></a>"
      ]
    },
    {
      "cell_type": "markdown",
      "metadata": {
        "id": "0HIFeiX4gQvE",
        "colab_type": "text"
      },
      "source": [
        "# Iniciante"
      ]
    },
    {
      "cell_type": "code",
      "metadata": {
        "id": "zO6ay_twfJ7-",
        "colab_type": "code",
        "colab": {}
      },
      "source": [
        "#1003 - Soma simples\n",
        "x = int(input())\n",
        "y = int(input())\n",
        "soma = x + y\n",
        "print('SOMA = {}'.format(soma))"
      ],
      "execution_count": 0,
      "outputs": []
    },
    {
      "cell_type": "code",
      "metadata": {
        "id": "8HIXUCCDUmkZ",
        "colab_type": "code",
        "colab": {}
      },
      "source": [
        "#1004 - Produto simples\n",
        "x = int(input())\n",
        "y = int(input())\n",
        "prod = x * y\n",
        "print('PROD =', prod)"
      ],
      "execution_count": 0,
      "outputs": []
    },
    {
      "cell_type": "code",
      "metadata": {
        "id": "yZYI_2UeK3Sm",
        "colab_type": "code",
        "colab": {}
      },
      "source": [
        "#1013 - Maior valor\n",
        "valueList = list()\n",
        "a, b, c = input().split()\n",
        "x, y, z = int(a), int(b), int(c)\n",
        "valueList.append(x)\n",
        "valueList.append(y)\n",
        "valueList.append(z)\n",
        "print(max(valueList), 'eh o maior')"
      ],
      "execution_count": 0,
      "outputs": []
    },
    {
      "cell_type": "code",
      "metadata": {
        "id": "GcYPQU6Ifqur",
        "colab_type": "code",
        "colab": {}
      },
      "source": [
        "#1019 - Conversão de tempo\n",
        "hour = 0\n",
        "second = int(input())\n",
        "minute = second / 60\n",
        "second = second % 60\n",
        "if minute > 60:\n",
        "    hour = minute / 60\n",
        "    minute = minute % 60\n",
        "print('{}:{}:{}'.format(int(hour), int(minute), second))"
      ],
      "execution_count": 0,
      "outputs": []
    },
    {
      "cell_type": "markdown",
      "metadata": {
        "id": "B7pPx_PcgVPT",
        "colab_type": "text"
      },
      "source": [
        "# Matemática"
      ]
    },
    {
      "cell_type": "code",
      "metadata": {
        "id": "SuUl8Xq615nS",
        "colab_type": "code",
        "colab": {}
      },
      "source": [
        "# 1028 - Figurinhas\n",
        "# MDC - máximo divisor comum\n",
        "# Algoritmo de euclides\n",
        "# Não foi necessário as validações\n",
        "N = int(input())\n",
        "if N >= 1 and N <= 3000:\n",
        "    count = 0\n",
        "    while count < N:\n",
        "        x, y = input().split(\" \")\n",
        "        F1 = int(x); F2 = int(y)\n",
        "        if (F1 >= 1 and F1 <= 1000) and (F2 >= 1 and F2 <= 1000):\n",
        "            while F2 != 0:\n",
        "                r = F1 % F2\n",
        "                F1, F2 = F2, r\n",
        "            print(F1)\n",
        "        count += 1"
      ],
      "execution_count": 0,
      "outputs": []
    },
    {
      "cell_type": "code",
      "metadata": {
        "id": "Fm5XJ-e6fGCq",
        "colab_type": "code",
        "colab": {}
      },
      "source": [
        "# 1093 - Vampiros\n",
        "# Probabilidade\n",
        "# Energia vital = Ev\n",
        "# Força de ataque - At\n",
        "# Capacidade de dano = D\n",
        "# input = EV1 EV2 AT D\n",
        "# Qual a probabilidade do vampiro 1 vencer\n",
        "# https://en.wikipedia.org/wiki/Gambler%27s_ruin\n",
        "while True:\n",
        "    entrada = input()\n",
        "    w, x, y, z = entrada.split(\" \")\n",
        "    ev1, ev2, at, d = int(w), int(x), int(y), int(z)\n",
        "    verificacao = ev1 + ev2 + at + d\n",
        "    if verificacao == 0:\n",
        "        break\n",
        "    "
      ],
      "execution_count": 0,
      "outputs": []
    },
    {
      "cell_type": "code",
      "metadata": {
        "id": "BEZZR0Ky8J-h",
        "colab_type": "code",
        "colab": {}
      },
      "source": [
        "# 1161 - Fatorial\n",
        "# As respostas estão corretas mas o URI aprsenta Runtime Error\n",
        "def fatorial(numero):\n",
        "    resultado = 1\n",
        "    for idx in range(1, numero + 1):\n",
        "        resultado = resultado * idx\n",
        "    return resultado\n",
        "\n",
        "while True:\n",
        "    valor = input()\n",
        "    if valor.upper() == \"EOF\":\n",
        "        break\n",
        "    x, y = valor.split(\" \")\n",
        "    M = int(x); N = int(y)\n",
        "    print(fatorial(M) + fatorial(N))"
      ],
      "execution_count": 0,
      "outputs": []
    },
    {
      "cell_type": "code",
      "metadata": {
        "id": "-LC9RAR5BCHT",
        "colab_type": "code",
        "colab": {}
      },
      "source": [
        "# 1214 - Acima da Média\n",
        "cases = int(input())\n",
        "for index in range(cases):\n",
        "    notas = list(map(int, input().split()))\n",
        "    qtdAlunos = notas.pop(0)\n",
        "    media = (sum(notas)) / qtdAlunos\n",
        "    print('media', media)\n",
        "    contador = 0\n",
        "    for elementos in range(qtdAlunos): # reduzir essa merda\n",
        "        print('elementos', elementos)\n",
        "        if notas[elementos] > media:\n",
        "            contador += 1\n",
        "    print('contador', contador)\n",
        "    porcentagem = (contador * 100) / qtdAlunos\n",
        "    print('porcentagem', porcentagem)\n",
        "    # print com 3 casas decimais "
      ],
      "execution_count": 0,
      "outputs": []
    }
  ]
}