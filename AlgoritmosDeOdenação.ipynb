{
  "nbformat": 4,
  "nbformat_minor": 0,
  "metadata": {
    "colab": {
      "name": "AlgoritmosDeOdenação",
      "provenance": [],
      "collapsed_sections": [],
      "include_colab_link": true
    },
    "kernelspec": {
      "name": "python3",
      "display_name": "Python 3"
    }
  },
  "cells": [
    {
      "cell_type": "markdown",
      "metadata": {
        "id": "view-in-github",
        "colab_type": "text"
      },
      "source": [
        "<a href=\"https://colab.research.google.com/github/rogerio-stubs/AlgoritmosPython/blob/master/AlgoritmosDeOdena%C3%A7%C3%A3o.ipynb\" target=\"_parent\"><img src=\"https://colab.research.google.com/assets/colab-badge.svg\" alt=\"Open In Colab\"/></a>"
      ]
    },
    {
      "cell_type": "markdown",
      "metadata": {
        "id": "ckIbv6b-37g4",
        "colab_type": "text"
      },
      "source": [
        "# Ordenação\n",
        "\n",
        "* http://www.algoritmosempython.com.br/cursos/algoritmos-python/pesquisa-ordenacao/intro-ordenacao"
      ]
    },
    {
      "cell_type": "code",
      "metadata": {
        "id": "Iuy1ZwXYzO9l",
        "colab_type": "code",
        "colab": {}
      },
      "source": [
        "import random"
      ],
      "execution_count": 0,
      "outputs": []
    },
    {
      "cell_type": "code",
      "metadata": {
        "id": "rvG9__aK34au",
        "colab_type": "code",
        "colab": {}
      },
      "source": [
        "# Ordenação por seleção\n",
        "def selection_sort(vector):\n",
        "    size = len(vector)\n",
        "    for index in range(size):\n",
        "        minimum = index\n",
        "        for element in range(index + 1, size):\n",
        "            if vector[minimum] > vector[element]:\n",
        "                minimum = element\n",
        "        vector[index], vector[minimum] = vector[minimum], vector[index]\n",
        "        \n",
        "# Main\n",
        "vector = random.sample(range(1, 11), 10)\n",
        "print('Arranjo não ordenado: {}'.format(vector))\n",
        "selection_sort(vector)\n",
        "print('Arranjo ordenado: {}'.format(vector))"
      ],
      "execution_count": 0,
      "outputs": []
    },
    {
      "cell_type": "code",
      "metadata": {
        "id": "TABiYl4DcHv7",
        "colab_type": "code",
        "colab": {}
      },
      "source": [
        "# Ordenação por inserção\n",
        "def insertion_sort(vector):\n",
        "    size = len(vector)\n",
        "    for idx in range(1, size):\n",
        "        key = vector[idx]\n",
        "        tmp = idx - 1\n",
        "        while tmp >= 0 and vector[tmp] > key:\n",
        "            vector[tmp+1] = vector[tmp]\n",
        "            tmp -= 1\n",
        "            vector[tmp+1] = key\n",
        "            print(vector)\n",
        "\n",
        "# Main\n",
        "vector = random.sample(range(1, 11), 10)\n",
        "print('Arranjo não ordenado: {}'.format(vector))\n",
        "insertion_sort(vector)\n",
        "print('Arranjo ordenado: {}'.format(vector))"
      ],
      "execution_count": 0,
      "outputs": []
    },
    {
      "cell_type": "code",
      "metadata": {
        "id": "vhiyTPFMmWkg",
        "colab_type": "code",
        "colab": {}
      },
      "source": [
        "# Mergesort\n",
        "def merge(vector, aux, esquerda, meio, direita):\n",
        "    for idx in range(esquerda, direita+1):\n",
        "        aux[idx] = vector[idx]\n",
        "    i = esquerda\n",
        "    j = meio + 1\n",
        "    for idx in range(esquerda, direita+1):\n",
        "        if i > meio:\n",
        "            vector[idx] = aux[j]\n",
        "            j += 1\n",
        "        elif j > direita:\n",
        "            vector[idx] = aux[i]\n",
        "            i += 1\n",
        "        elif aux[j] < aux[i]:\n",
        "            vector[idx] = aux[j]\n",
        "            j += 1\n",
        "        else:\n",
        "            vector[idx] = aux[i]  \n",
        "            i += 1\n",
        "    print(vector)\n",
        "\n",
        "def merge_sort(vector, aux, esquerda, direita):\n",
        "    if direita <= esquerda:\n",
        "        return\n",
        "    meio = (esquerda + direita) // 2\n",
        "    print('meio', meio)\n",
        "    # Ordena a primeira metade do arranjo\n",
        "    merge_sort(vector, aux, esquerda, meio)\n",
        "\n",
        "    # Ordena a segunda metade do arranjo\n",
        "    merge_sort(vector, aux, meio+1, direita)\n",
        "\n",
        "    # Combina as duas metades ordenadas anteriormente\n",
        "    merge(vector, aux, esquerda, meio, direita)\n",
        "\n",
        "# Main\n",
        "vector = random.sample(range(1, 11), 10)\n",
        "vector = [3, 2, 1]\n",
        "print('Arranjo não ordenado: {}'.format(vector))\n",
        "aux = [0] * len(vector)\n",
        "merge_sort(vector, aux, 0, len(vector)-1)\n",
        "print('Arranjo ordenado: {}'.format(vector))"
      ],
      "execution_count": 0,
      "outputs": []
    }
  ]
}